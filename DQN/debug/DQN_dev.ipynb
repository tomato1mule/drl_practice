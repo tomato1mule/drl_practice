{
 "cells": [
  {
   "cell_type": "code",
   "execution_count": 71,
   "metadata": {},
   "outputs": [],
   "source": [
    "import time\n",
    "from collections import deque\n",
    "\n",
    "import numpy as np\n",
    "import matplotlib.pyplot as plt\n",
    "from tqdm import tqdm\n",
    "\n",
    "import torch\n",
    "import torch.nn as nn\n",
    "import torch.nn.functional as F\n",
    "import torch.distributions as dist\n",
    "\n",
    "import gym\n",
    "\n",
    "from replay_buffer import ReplayBuffer"
   ]
  },
  {
   "cell_type": "code",
   "execution_count": 72,
   "metadata": {},
   "outputs": [],
   "source": [
    "device = 'cuda'"
   ]
  },
  {
   "cell_type": "code",
   "execution_count": 73,
   "metadata": {},
   "outputs": [],
   "source": [
    "class DQN(nn.Module):\n",
    "    def __init__(self,N_s,N_a):\n",
    "        super().__init__()\n",
    "        self.N_s = N_s\n",
    "        self.N_a = N_a\n",
    "        \n",
    "        self.layer1 = nn.Linear(N_s,200)\n",
    "        self.layer2 = nn.Linear(200,200)\n",
    "        self.layer3 = nn.Linear(200,N_a)\n",
    "    \n",
    "    def forward(self,s):\n",
    "        Q = F.leaky_relu(self.layer1(s))\n",
    "        Q = F.leaky_relu(self.layer2(Q))\n",
    "        Q = self.layer3(Q)\n",
    "        \n",
    "        return Q\n",
    "    \n",
    "    def epsilon_greedy(self,s,eps=1e-1):\n",
    "        assert s.shape == (self.N_s,)\n",
    "        assert eps*self.N_a <= 1\n",
    "        \n",
    "        with torch.no_grad():\n",
    "            Q = self.forward(s)\n",
    "        \n",
    "        a = torch.argmax(Q)\n",
    "        p = [eps]*self.N_a\n",
    "        p[a] += (1 - (eps * self.N_a))\n",
    "        return np.random.choice(np.arange(N_a),p=p)"
   ]
  },
  {
   "cell_type": "code",
   "execution_count": 74,
   "metadata": {},
   "outputs": [
    {
     "data": {
      "text/plain": [
       "<All keys matched successfully>"
      ]
     },
     "execution_count": 74,
     "metadata": {},
     "output_type": "execute_result"
    }
   ],
   "source": [
    "N_s = 5\n",
    "N_a = 3\n",
    "N_batch = 30\n",
    "\n",
    "dqn = DQN(N_s,N_a).to(device)\n",
    "target_dqn = DQN(N_s,N_a).to(device)\n",
    "target_dqn.load_state_dict(dqn.state_dict())"
   ]
  },
  {
   "cell_type": "code",
   "execution_count": null,
   "metadata": {},
   "outputs": [],
   "source": []
  },
  {
   "cell_type": "code",
   "execution_count": null,
   "metadata": {},
   "outputs": [],
   "source": []
  },
  {
   "cell_type": "code",
   "execution_count": null,
   "metadata": {},
   "outputs": [],
   "source": []
  },
  {
   "cell_type": "code",
   "execution_count": null,
   "metadata": {},
   "outputs": [],
   "source": [
    "def run_episode(env, buffer, policy):\n",
    "    s = env.reset()\n",
    "    done = 0\n",
    "    while(not done):\n",
    "        T = [s]\n",
    "        s = torch.tensor(s,dtype = torch.float32).to(device)\n",
    "        a = policy(s)\n",
    "        ns, r, done, info = env.step(a)"
   ]
  },
  {
   "cell_type": "code",
   "execution_count": null,
   "metadata": {},
   "outputs": [],
   "source": []
  },
  {
   "cell_type": "code",
   "execution_count": 27,
   "metadata": {},
   "outputs": [
    {
     "name": "stdout",
     "output_type": "stream",
     "text": [
      "[ 0.00160841 -0.18543708  0.01611761  0.28593032]\n",
      "[-0.00210033 -0.38078514  0.02183622  0.58365272]\n",
      "[-0.00971603 -0.57620608  0.03350927  0.88313359]\n",
      "[-0.02124016 -0.77176669  0.05117194  1.18615971]\n",
      "[-0.03667549 -0.96751356  0.07489514  1.49443365]\n",
      "[-0.05602576 -1.1634623   0.10478381  1.80953138]\n",
      "[-0.07929501 -1.35958492  0.14097444  2.13285186]\n",
      "[-0.1064867  -1.55579494  0.18363147  2.4655565 ]\n",
      "[-0.1376026  -1.75193015  0.2329426   2.80849766]\n"
     ]
    }
   ],
   "source": [
    "env = gym.make('CartPole-v0')\n",
    "\n",
    "\n",
    "for episode in range(1):\n",
    "    s = env.reset()\n",
    "    done = 0\n",
    "    while(not done):\n",
    "        ns, r, done, info = env.step(0)\n",
    "        s = ns.copy()\n",
    "        print(ns)"
   ]
  },
  {
   "cell_type": "code",
   "execution_count": null,
   "metadata": {},
   "outputs": [],
   "source": []
  },
  {
   "cell_type": "code",
   "execution_count": null,
   "metadata": {},
   "outputs": [],
   "source": []
  },
  {
   "cell_type": "code",
   "execution_count": 69,
   "metadata": {},
   "outputs": [
    {
     "name": "stdout",
     "output_type": "stream",
     "text": [
      "tensor(2, device='cuda:0')\n"
     ]
    },
    {
     "data": {
      "text/plain": [
       "2"
      ]
     },
     "execution_count": 69,
     "metadata": {},
     "output_type": "execute_result"
    }
   ],
   "source": [
    "dqn.epsilon_greedy(S[0])"
   ]
  },
  {
   "cell_type": "code",
   "execution_count": null,
   "metadata": {},
   "outputs": [],
   "source": []
  },
  {
   "cell_type": "code",
   "execution_count": null,
   "metadata": {},
   "outputs": [],
   "source": []
  },
  {
   "cell_type": "code",
   "execution_count": null,
   "metadata": {},
   "outputs": [],
   "source": []
  },
  {
   "cell_type": "code",
   "execution_count": null,
   "metadata": {},
   "outputs": [],
   "source": []
  },
  {
   "cell_type": "code",
   "execution_count": null,
   "metadata": {},
   "outputs": [],
   "source": []
  },
  {
   "cell_type": "code",
   "execution_count": null,
   "metadata": {},
   "outputs": [],
   "source": []
  },
  {
   "cell_type": "code",
   "execution_count": 63,
   "metadata": {},
   "outputs": [],
   "source": []
  },
  {
   "cell_type": "code",
   "execution_count": 68,
   "metadata": {},
   "outputs": [
    {
     "data": {
      "text/plain": [
       "<All keys matched successfully>"
      ]
     },
     "execution_count": 68,
     "metadata": {},
     "output_type": "execute_result"
    }
   ],
   "source": []
  },
  {
   "cell_type": "code",
   "execution_count": null,
   "metadata": {},
   "outputs": [],
   "source": []
  },
  {
   "cell_type": "code",
   "execution_count": null,
   "metadata": {},
   "outputs": [],
   "source": []
  },
  {
   "cell_type": "code",
   "execution_count": null,
   "metadata": {},
   "outputs": [],
   "source": []
  },
  {
   "cell_type": "code",
   "execution_count": 54,
   "metadata": {},
   "outputs": [],
   "source": [
    "S = np.random.uniform(size = (N_batch,N_s))\n",
    "S = torch.tensor(S,dtype=torch.float32).to(device)"
   ]
  },
  {
   "cell_type": "code",
   "execution_count": 55,
   "metadata": {},
   "outputs": [],
   "source": [
    "NS = np.random.uniform(size = (N_batch,N_s))\n",
    "NS = torch.tensor(NS,dtype=torch.float32).to(device)"
   ]
  },
  {
   "cell_type": "code",
   "execution_count": 56,
   "metadata": {},
   "outputs": [],
   "source": [
    "A = np.random.randint(0,N_a,size = (N_batch,) )"
   ]
  },
  {
   "cell_type": "code",
   "execution_count": 57,
   "metadata": {},
   "outputs": [],
   "source": [
    "R = np.ones((N_batch))\n",
    "R = torch.tensor(R,dtype=torch.float32).to(device)"
   ]
  },
  {
   "cell_type": "code",
   "execution_count": 58,
   "metadata": {},
   "outputs": [],
   "source": [
    "D = np.random.randint(0,2,size = (N_batch,))\n",
    "D = torch.tensor(D,dtype=torch.bool).to(device)"
   ]
  },
  {
   "cell_type": "code",
   "execution_count": null,
   "metadata": {},
   "outputs": [],
   "source": []
  },
  {
   "cell_type": "code",
   "execution_count": 59,
   "metadata": {},
   "outputs": [
    {
     "data": {
      "text/plain": [
       "tensor([[-5.9198e-02,  8.6597e-02, -1.0483e-01],\n",
       "        [-7.1537e-02,  5.2607e-02, -1.5029e-01],\n",
       "        [-6.7024e-02, -1.4482e-02, -1.9680e-01],\n",
       "        [-8.9053e-02,  4.5654e-03, -2.1490e-01],\n",
       "        [-5.2742e-02,  1.6722e-02, -1.2532e-01],\n",
       "        [-5.8985e-02, -1.8056e-03, -1.8036e-01],\n",
       "        [-6.3753e-02, -8.7462e-05, -1.6380e-01],\n",
       "        [-6.3945e-02,  2.9904e-02, -1.6545e-01],\n",
       "        [-3.9703e-02,  8.0359e-02, -8.8068e-02],\n",
       "        [-6.6624e-02, -6.1610e-04, -1.6017e-01],\n",
       "        [-6.4011e-02,  1.7999e-02, -1.5048e-01],\n",
       "        [-6.3608e-02,  7.4373e-02, -1.6744e-01],\n",
       "        [-5.3363e-02,  9.2721e-02, -1.1153e-01],\n",
       "        [-3.3932e-02,  2.1760e-02, -1.1974e-01],\n",
       "        [-5.2181e-02, -1.2668e-02, -1.3614e-01],\n",
       "        [-7.3365e-02, -1.7393e-02, -1.8671e-01],\n",
       "        [-7.0357e-02,  3.4960e-02, -1.4288e-01],\n",
       "        [-6.5572e-02,  9.2293e-02, -1.3510e-01],\n",
       "        [-5.7824e-02,  3.6502e-02, -1.2296e-01],\n",
       "        [-7.1165e-02,  6.2452e-03, -1.9132e-01],\n",
       "        [-6.2032e-02,  1.2727e-02, -1.4068e-01],\n",
       "        [-6.2787e-02,  4.6427e-02, -1.5842e-01],\n",
       "        [-5.6469e-02,  6.0181e-03, -1.5480e-01],\n",
       "        [-6.3761e-02,  5.2376e-02, -1.4142e-01],\n",
       "        [-7.5149e-02,  2.8749e-02, -1.3999e-01],\n",
       "        [-5.6560e-02, -1.8151e-02, -1.8956e-01],\n",
       "        [-6.7631e-02,  9.0654e-03, -1.7534e-01],\n",
       "        [-4.5819e-02,  7.9599e-04, -1.6736e-01],\n",
       "        [-6.4468e-02, -2.5164e-02, -1.7789e-01],\n",
       "        [-5.4816e-02, -1.2235e-02, -1.2748e-01]], device='cuda:0',\n",
       "       grad_fn=<AddmmBackward>)"
      ]
     },
     "execution_count": 59,
     "metadata": {},
     "output_type": "execute_result"
    }
   ],
   "source": [
    "Q"
   ]
  },
  {
   "cell_type": "code",
   "execution_count": 44,
   "metadata": {},
   "outputs": [
    {
     "data": {
      "text/plain": [
       "tensor([0, 0, 0, 0, 0, 0, 0, 0, 0, 0, 0, 0, 0, 0, 0, 0, 0, 0, 0, 0, 0, 0, 0, 0,\n",
       "        0, 1, 0, 0, 0, 0], device='cuda:0')"
      ]
     },
     "execution_count": 44,
     "metadata": {},
     "output_type": "execute_result"
    }
   ],
   "source": [
    "torch.argmax(Q,dim=-1)"
   ]
  },
  {
   "cell_type": "code",
   "execution_count": null,
   "metadata": {},
   "outputs": [],
   "source": []
  },
  {
   "cell_type": "code",
   "execution_count": null,
   "metadata": {},
   "outputs": [],
   "source": []
  },
  {
   "cell_type": "code",
   "execution_count": 45,
   "metadata": {},
   "outputs": [
    {
     "data": {
      "text/plain": [
       "torch.Size([30, 3])"
      ]
     },
     "execution_count": 45,
     "metadata": {},
     "output_type": "execute_result"
    }
   ],
   "source": [
    "Q = dqn(S)\n",
    "Q.shape"
   ]
  },
  {
   "cell_type": "code",
   "execution_count": 46,
   "metadata": {},
   "outputs": [
    {
     "data": {
      "text/plain": [
       "torch.Size([30, 3])"
      ]
     },
     "execution_count": 46,
     "metadata": {},
     "output_type": "execute_result"
    }
   ],
   "source": [
    "with torch.no_grad():\n",
    "    NQ = target_dqn(NS)\n",
    "NQ.shape"
   ]
  },
  {
   "cell_type": "code",
   "execution_count": null,
   "metadata": {},
   "outputs": [],
   "source": []
  },
  {
   "cell_type": "code",
   "execution_count": null,
   "metadata": {},
   "outputs": [],
   "source": []
  },
  {
   "cell_type": "code",
   "execution_count": null,
   "metadata": {},
   "outputs": [],
   "source": []
  },
  {
   "cell_type": "code",
   "execution_count": null,
   "metadata": {},
   "outputs": [],
   "source": []
  },
  {
   "cell_type": "code",
   "execution_count": 13,
   "metadata": {},
   "outputs": [],
   "source": [
    "QA = Q[np.arange(N_batch),A]"
   ]
  },
  {
   "cell_type": "code",
   "execution_count": null,
   "metadata": {},
   "outputs": [],
   "source": []
  },
  {
   "cell_type": "code",
   "execution_count": 14,
   "metadata": {},
   "outputs": [],
   "source": [
    "Q_target = torch.max(NQ,dim=1)[0]"
   ]
  },
  {
   "cell_type": "code",
   "execution_count": 15,
   "metadata": {},
   "outputs": [
    {
     "data": {
      "text/plain": [
       "tensor([ 0.0647,  0.0839,  0.1244,  0.0551,  0.1619,  0.0505,  0.1600,  0.0074,\n",
       "         0.1549,  0.0695,  0.0614,  0.1065,  0.0962,  0.0619,  0.0641,  0.1877,\n",
       "         0.0688,  0.0783,  0.0745,  0.1017, -0.0111,  0.1005, -0.0189, -0.0024,\n",
       "         0.0627,  0.0991,  0.0816,  0.0767,  0.1172, -0.0202], device='cuda:0',\n",
       "       grad_fn=<IndexBackward>)"
      ]
     },
     "execution_count": 15,
     "metadata": {},
     "output_type": "execute_result"
    }
   ],
   "source": [
    "QA"
   ]
  },
  {
   "cell_type": "code",
   "execution_count": 16,
   "metadata": {},
   "outputs": [
    {
     "data": {
      "text/plain": [
       "tensor([0.1578, 0.1067, 0.1233, 0.0711, 0.1504, 0.1137, 0.0991, 0.1717, 0.1301,\n",
       "        0.1638, 0.1575, 0.1141, 0.0769, 0.1374, 0.1277, 0.1003, 0.1057, 0.1040,\n",
       "        0.1208, 0.1615, 0.0832, 0.0760, 0.0760, 0.1204, 0.1752, 0.1454, 0.1262,\n",
       "        0.0995, 0.1052, 0.1031], device='cuda:0')"
      ]
     },
     "execution_count": 16,
     "metadata": {},
     "output_type": "execute_result"
    }
   ],
   "source": [
    "Q_target"
   ]
  },
  {
   "cell_type": "code",
   "execution_count": 17,
   "metadata": {},
   "outputs": [],
   "source": [
    "discount = 0.99"
   ]
  },
  {
   "cell_type": "code",
   "execution_count": 18,
   "metadata": {},
   "outputs": [],
   "source": [
    "Q_target = R + (~D)*discount*Q_target"
   ]
  },
  {
   "cell_type": "code",
   "execution_count": 19,
   "metadata": {},
   "outputs": [
    {
     "data": {
      "text/plain": [
       "tensor([1.0000, 1.0000, 1.1220, 1.0704, 1.0000, 1.0000, 1.0000, 1.1700, 1.1288,\n",
       "        1.0000, 1.0000, 1.0000, 1.0762, 1.0000, 1.0000, 1.0000, 1.0000, 1.1030,\n",
       "        1.1196, 1.0000, 1.0823, 1.0752, 1.0753, 1.1192, 1.0000, 1.1439, 1.0000,\n",
       "        1.0000, 1.1041, 1.1021], device='cuda:0')"
      ]
     },
     "execution_count": 19,
     "metadata": {},
     "output_type": "execute_result"
    }
   ],
   "source": [
    "Q_target"
   ]
  },
  {
   "cell_type": "code",
   "execution_count": 20,
   "metadata": {},
   "outputs": [
    {
     "data": {
      "text/plain": [
       "tensor(0.9529, device='cuda:0', grad_fn=<MseLossBackward>)"
      ]
     },
     "execution_count": 20,
     "metadata": {},
     "output_type": "execute_result"
    }
   ],
   "source": [
    "F.mse_loss(QA,Q_target)"
   ]
  },
  {
   "cell_type": "code",
   "execution_count": null,
   "metadata": {},
   "outputs": [],
   "source": []
  },
  {
   "cell_type": "code",
   "execution_count": null,
   "metadata": {},
   "outputs": [],
   "source": []
  },
  {
   "cell_type": "code",
   "execution_count": null,
   "metadata": {},
   "outputs": [],
   "source": []
  },
  {
   "cell_type": "code",
   "execution_count": 23,
   "metadata": {},
   "outputs": [],
   "source": [
    "def loss(batch,Q,NQ,discount):\n",
    "    R = batch['reward']\n",
    "    R = torch.tensor(R,dtype=torch.float32).to(device)\n",
    "    D = batch['done']\n",
    "    D = torch.tensor(D,dtype=torch.bool).to(device)\n",
    "    \n",
    "    \n",
    "    QA = Q[np.arange(N_batch),batch['action']]\n",
    "    Q_target = torch.max(NQ,dim=1).values\n",
    "    Q_target = R + (~D)*discount*Q_target\n",
    "    \n",
    "    return F.mse_loss(QA,Q_target)\n",
    "    \n",
    "    \n",
    "    \n",
    "    "
   ]
  },
  {
   "cell_type": "code",
   "execution_count": null,
   "metadata": {},
   "outputs": [],
   "source": []
  },
  {
   "cell_type": "code",
   "execution_count": null,
   "metadata": {},
   "outputs": [],
   "source": []
  },
  {
   "cell_type": "code",
   "execution_count": null,
   "metadata": {},
   "outputs": [],
   "source": []
  },
  {
   "cell_type": "code",
   "execution_count": null,
   "metadata": {},
   "outputs": [],
   "source": []
  },
  {
   "cell_type": "code",
   "execution_count": null,
   "metadata": {},
   "outputs": [],
   "source": []
  },
  {
   "cell_type": "code",
   "execution_count": null,
   "metadata": {},
   "outputs": [],
   "source": []
  },
  {
   "cell_type": "code",
   "execution_count": null,
   "metadata": {},
   "outputs": [],
   "source": []
  },
  {
   "cell_type": "code",
   "execution_count": 22,
   "metadata": {},
   "outputs": [
    {
     "data": {
      "text/plain": [
       "{'state': array([[9., 9.],\n",
       "        [9., 9.]]),\n",
       " 'next_state': array([[-9., -9.],\n",
       "        [-9., -9.]]),\n",
       " 'action': array([[18., 18., 18.],\n",
       "        [18., 18., 18.]]),\n",
       " 'reward': array([9., 9.]),\n",
       " 'done': array([1., 1.])}"
      ]
     },
     "execution_count": 22,
     "metadata": {},
     "output_type": "execute_result"
    }
   ],
   "source": [
    "buffer = ReplayBuffer(max_len = 5)\n",
    "for i in range(10):\n",
    "    T = [np.array([i,i]),np.array([-i,-i]),np.array([2*i,2*i,2*i]),i,i%2]\n",
    "    buffer.append(T)\n",
    "buffer.sample(2)"
   ]
  },
  {
   "cell_type": "code",
   "execution_count": null,
   "metadata": {},
   "outputs": [],
   "source": []
  },
  {
   "cell_type": "code",
   "execution_count": null,
   "metadata": {},
   "outputs": [],
   "source": []
  }
 ],
 "metadata": {
  "kernelspec": {
   "display_name": "Python 3",
   "language": "python",
   "name": "python3"
  },
  "language_info": {
   "codemirror_mode": {
    "name": "ipython",
    "version": 3
   },
   "file_extension": ".py",
   "mimetype": "text/x-python",
   "name": "python",
   "nbconvert_exporter": "python",
   "pygments_lexer": "ipython3",
   "version": "3.8.10"
  }
 },
 "nbformat": 4,
 "nbformat_minor": 4
}
